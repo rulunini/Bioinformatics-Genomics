{
 "cells": [
  {
   "cell_type": "markdown",
   "id": "7cc50b83-8c54-43cd-a7b3-24e2041881e9",
   "metadata": {},
   "source": [
    "## Nextflow 설치\n",
    "Nextflow를 설치합니다. 공식 버전, Quick-start 설치, Bioconda를 활용한 설치가 있습니다.  \n",
    "다음 튜토리얼에서는 Anaconda 환경을 설정하여 독립적인 환경에서 Nextflow를 설치하는 방법을 기술했습니다."
   ]
  },
  {
   "cell_type": "markdown",
   "id": "5ff38e33-a7ad-4a4e-966f-9b99e8bd1be9",
   "metadata": {},
   "source": [
    "아래 스텝은 MacOS 환경에서 작업합니다.  \n",
    "https://www.nextflow.io/docs/latest/install.html#installation"
   ]
  },
  {
   "cell_type": "markdown",
   "id": "ad699947-8927-4a8f-afbf-b1f631c8e380",
   "metadata": {},
   "source": [
    "### Requirements\n",
    "Java 버전이 11 이상이어야 합니다.\n",
    "먼저 Java 버전을 확인합니다."
   ]
  },
  {
   "cell_type": "code",
   "execution_count": null,
   "id": "9aaf3086-68f4-404f-bfe0-95991fc58b5c",
   "metadata": {
    "tags": []
   },
   "outputs": [],
   "source": [
    "#!shell\n",
    "java -version                           "
   ]
  },
  {
   "cell_type": "markdown",
   "id": "e80f8fcd-8b59-40f4-aa74-b2e00fbe0f17",
   "metadata": {},
   "source": [
    "### Anaconda 환경 설정\n",
    "필자는 java 버전을 업데이트를 해야했고, nextflow_env 환경에서 java 11버전을 설치했습니다.   \n",
    "아래 코드로 (1) 환경을 만든 후, (2) 환경을 활성화합니다."
   ]
  },
  {
   "cell_type": "code",
   "execution_count": null,
   "id": "e581ceee-6c7a-499d-abc0-0dcb77198f34",
   "metadata": {},
   "outputs": [],
   "source": [
    "#!python\n",
    "conda create -n nextflow_env\n",
    "conda activate nextflow_env"
   ]
  },
  {
   "cell_type": "code",
   "execution_count": null,
   "id": "574df7f0-1554-4638-9e40-043f40f4362b",
   "metadata": {},
   "outputs": [],
   "source": [
    "#!shell\n",
    "conda install -c conda-forge openjdk=11 # conda-force에서 openjdk=11버전으로 java를 설치합니다."
   ]
  },
  {
   "cell_type": "code",
   "execution_count": null,
   "id": "da13f0e6-36dd-46dc-a31f-9600e4bf14e9",
   "metadata": {},
   "outputs": [],
   "source": [
    "# 버전을 확인합니다.\n",
    "java -version\n",
    "\n",
    "> openjdk version \"11.0.23\" 2024-04-16 LTS\n",
    "> OpenJDK Runtime Environment Zulu11.72+19-CA (build 11.0.23+9-LTS)\n",
    "> OpenJDK 64-Bit Server VM Zulu11.72+19-CA (build 11.0.23+9-LTS, mixed mode)"
   ]
  },
  {
   "cell_type": "markdown",
   "id": "86721649-9afd-4516-94fe-60eb6e1ec0bf",
   "metadata": {},
   "source": [
    "### Nextflow 설치"
   ]
  },
  {
   "cell_type": "markdown",
   "id": "4b8e1145-4a0d-4586-9f8c-a5248e6e98b1",
   "metadata": {},
   "source": [
    "Nextflow를 설치합니다."
   ]
  },
  {
   "cell_type": "code",
   "execution_count": null,
   "id": "947db0bb-fa44-4fbb-a8c5-bae0126cb484",
   "metadata": {},
   "outputs": [],
   "source": [
    "curl -s https://get.nextflow.io | bash  # Nextflow 설치합니다. (1분 정도 소요)"
   ]
  },
  {
   "cell_type": "markdown",
   "id": "a39aa0d2-496d-43f9-adff-b1ae30bf7a81",
   "metadata": {},
   "source": [
    "Make executable"
   ]
  },
  {
   "cell_type": "code",
   "execution_count": null,
   "id": "3ed096a9-d0c6-4464-bbb3-99f2b9251e35",
   "metadata": {},
   "outputs": [],
   "source": [
    "chmod +x nextflow"
   ]
  },
  {
   "cell_type": "markdown",
   "id": "34d2bf92-1547-4035-b28d-1e5e6f73143b",
   "metadata": {},
   "source": [
    "Move Nextflow into an executable path"
   ]
  },
  {
   "cell_type": "code",
   "execution_count": null,
   "id": "f3576591-5d00-4edf-aa15-c06be3f6b2c1",
   "metadata": {},
   "outputs": [],
   "source": [
    "# mv nextflow ~/bin/                      # Add to user's $PATH - 생략\n",
    "mv nextflow ~/anaconda3/condabin/"
   ]
  },
  {
   "cell_type": "markdown",
   "id": "c951ca9f-23ed-4a70-b434-dfeece551c58",
   "metadata": {},
   "source": [
    "Nextflow 설치 확인"
   ]
  },
  {
   "cell_type": "code",
   "execution_count": null,
   "id": "6f6da4c0-0b7f-43f3-8d03-aa0d5ce3417f",
   "metadata": {},
   "outputs": [],
   "source": [
    "#!shell\n",
    "nextflow info\n",
    "\n",
    ">  Version: 24.04.2 build 5914\n",
    ">  Created: 29-05-2024 06:19 UTC (15:19 KDT)\n",
    ">  System: Mac OS X 13.6.4\n",
    ">  Runtime: Groovy 4.0.21 on OpenJDK 64-Bit Server VM 11.0.23+9-LTS\n",
    ">  Encoding: UTF-8 (UTF-8)"
   ]
  },
  {
   "cell_type": "markdown",
   "id": "879aeb62-a86b-439f-8d32-9192911a034e",
   "metadata": {},
   "source": [
    "아래 코드로 테스트해봅니다."
   ]
  },
  {
   "cell_type": "code",
   "execution_count": null,
   "id": "e9ddf89f-36f4-49ab-be75-04efdf54aab3",
   "metadata": {},
   "outputs": [],
   "source": [
    "#!shell\n",
    "nextflow run hello-world\n",
    "\n",
    "> N E X T F L O W   ~  version 24.04.2\n",
    "> \n",
    "> Pulling nextflow-io/hello-world ..."
   ]
  },
  {
   "cell_type": "markdown",
   "id": "53091362-4ecb-4b78-adc1-89ec9e9147a6",
   "metadata": {
    "tags": []
   },
   "source": [
    "### 파이프라인 구동 예시\n",
    "파이프라인은 다음 코드로 구동할 수 있습니다."
   ]
  },
  {
   "cell_type": "code",
   "execution_count": null,
   "id": "b2161490-76e2-49da-a76e-d48d35d4b2f3",
   "metadata": {},
   "outputs": [],
   "source": [
    "#!shell\n",
    "nextflow run nf-core/rnaseq \\\n",
    "    --input samplesheet.csv \\\n",
    "    --output <OUTDIR> \\\n",
    "    -profile <docker/signularity/…/institute>"
   ]
  },
  {
   "cell_type": "markdown",
   "id": "de0ec551-609d-4edd-8cd6-4294d259016d",
   "metadata": {},
   "source": [
    "### Updates"
   ]
  },
  {
   "cell_type": "code",
   "execution_count": null,
   "id": "90559263-eb13-4b16-9f4b-0c1d27e4b60f",
   "metadata": {},
   "outputs": [],
   "source": [
    "nextflow self-update"
   ]
  }
 ],
 "metadata": {
  "kernelspec": {
   "display_name": "Python 3 (ipykernel)",
   "language": "python",
   "name": "python3"
  },
  "language_info": {
   "codemirror_mode": {
    "name": "ipython",
    "version": 3
   },
   "file_extension": ".py",
   "mimetype": "text/x-python",
   "name": "python",
   "nbconvert_exporter": "python",
   "pygments_lexer": "ipython3",
   "version": "3.10.9"
  }
 },
 "nbformat": 4,
 "nbformat_minor": 5
}
