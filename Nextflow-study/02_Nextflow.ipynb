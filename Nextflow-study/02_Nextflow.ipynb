{
 "cells": [
  {
   "cell_type": "markdown",
   "id": "e52af93e-d3eb-4fa3-8c3e-83542673d4d4",
   "metadata": {},
   "source": [
    "Nextflow script 예시"
   ]
  },
  {
   "cell_type": "code",
   "execution_count": null,
   "id": "ff988503-e03a-4f29-82b7-ff871fbc20fd",
   "metadata": {},
   "outputs": [],
   "source": [
    "// Script parameters\n",
    "params.query = \"/some/data/sample.fa\"\n",
    "params.db = \"/some/path/pdb\"\n",
    "\n",
    "process blastSearch {\n",
    "  input:\n",
    "  path query\n",
    "  path db\n",
    "\n",
    "  output:\n",
    "  path \"top_hits.txt\"\n",
    "\n",
    "  \"\"\"\n",
    "  blastp -db $db -query $query -outfmt 6 > blast_result\n",
    "  cat blast_result | head -n 10 | cut -f 2 > top_hits.txt\n",
    "  \"\"\"\n",
    "}\n",
    "\n",
    "process extractTopHits {\n",
    "  input:\n",
    "  path top_hits\n",
    "  path db\n",
    "\n",
    "  output:\n",
    "  path \"sequences.txt\"\n",
    "\n",
    "  \"\"\"\n",
    "  blastdbcmd -db $db -entry_batch $top_hits > sequences.txt\n",
    "  \"\"\"\n",
    "}\n",
    "\n",
    "workflow {\n",
    "  def query_ch = Channel.fromPath(params.query)\n",
    "  blastSearch(query_ch, params.db)\n",
    "  extractTopHits(blastSearch.out, params.db).view()\n",
    "}"
   ]
  },
  {
   "cell_type": "markdown",
   "id": "d2e4d042-313c-4e09-915b-cd9235f269b0",
   "metadata": {},
   "source": [
    "Configuration options: `nextflow.config`"
   ]
  },
  {
   "cell_type": "code",
   "execution_count": null,
   "id": "05e007e1-20df-4929-a5ea-7fddff22a3b9",
   "metadata": {},
   "outputs": [],
   "source": [
    "process {\n",
    "  executor = 'sge'\n",
    "  queue = 'cn-el6'\n",
    "}"
   ]
  }
 ],
 "metadata": {
  "kernelspec": {
   "display_name": "Python 3 (ipykernel)",
   "language": "python",
   "name": "python3"
  },
  "language_info": {
   "codemirror_mode": {
    "name": "ipython",
    "version": 3
   },
   "file_extension": ".py",
   "mimetype": "text/x-python",
   "name": "python",
   "nbconvert_exporter": "python",
   "pygments_lexer": "ipython3",
   "version": "3.10.9"
  }
 },
 "nbformat": 4,
 "nbformat_minor": 5
}
