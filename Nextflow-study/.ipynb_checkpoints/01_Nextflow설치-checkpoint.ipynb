{
 "cells": [
  {
   "cell_type": "markdown",
   "id": "5ff38e33-a7ad-4a4e-966f-9b99e8bd1be9",
   "metadata": {},
   "source": [
    "1. Nextflow 사용법\n",
    "아래 스텝은 MacOS 환경에서 작업합니다. \n",
    "https://www.nextflow.io/docs/latest/install.html#installation"
   ]
  },
  {
   "cell_type": "markdown",
   "id": "ad699947-8927-4a8f-afbf-b1f631c8e380",
   "metadata": {},
   "source": [
    "## 설치\n",
    "Nextflow를 설치합니다. 공식 버전, Quick-start 설치, Bioconda를 활용한 설치가 있습니다. 다음 튜토리얼에서는 Anaconda 환경을 설정하여 독립적인 환경에서 Nextflow를 설치하는 방법을 기술했습니다."
   ]
  },
  {
   "cell_type": "markdown",
   "id": "a0f36209-0bfd-4e07-adc7-e728bfd2f143",
   "metadata": {},
   "source": [
    "### 아나콘다 환경 설정\n",
    "먼저, 아래 두 체널을 세팅함으로써 Bioconda를 설치합니다."
   ]
  },
  {
   "cell_type": "code",
   "execution_count": null,
   "id": "a5e8f7dd-04d4-43e9-b334-b444ed447a6e",
   "metadata": {},
   "outputs": [],
   "source": [
    " #!python\n",
    "conda config --add channels bioconda\n",
    "conda config --add channels condo-forge"
   ]
  },
  {
   "cell_type": "markdown",
   "id": "4331307c-a04e-4047-ac24-93ed5052ab16",
   "metadata": {
    "tags": []
   },
   "source": [
    "아래 코드로 (1) 환경을 만든 후, (2) 환경을 활성화합니다.\n"
   ]
  },
  {
   "cell_type": "code",
   "execution_count": null,
   "id": "ae253e43-9045-4622-b8fd-06f6bbe44dcd",
   "metadata": {},
   "outputs": [],
   "source": [
    "#!python\n",
    "conda create -n nextflow_env\n",
    "conda activate nextflow_env"
   ]
  },
  {
   "cell_type": "code",
   "execution_count": null,
   "id": "947db0bb-fa44-4fbb-a8c5-bae0126cb484",
   "metadata": {},
   "outputs": [],
   "source": [
    "\n",
    "### Bioconda로 Nextflow 설치\n",
    "#!shell\n",
    "java -version                           # Java 버전이 11 이상이어야 합니다.\n",
    "curl -s https://get.nextflow.io | bash  # Nextflow 설치합니다. (1분 정도 소요)\n",
    "chmod +x nextflow                       # Make executable\n",
    "(mv nextflow ~/bin/                      # Add to user's $PATH) - 생략\n",
    "mv nextflow ~/anaconda3/condabin/\n",
    "* red 서버: mv nextflow ~/miniconda3/condabin/\n",
    "* Inc-cal2 서버:\n",
    "    * mv nextflow  /usr/local/miniconda3/condabin/\n",
    "    * mv nextflow  /home/jyshim/.conda/envs/shpark/bin\n",
    "    * Mv nextflow /home/dsc/.conda/envs/nextflow\n"
   ]
  },
  {
   "cell_type": "code",
   "execution_count": null,
   "id": "212e5c27-af63-494e-b464-5db705523333",
   "metadata": {},
   "outputs": [],
   "source": [
    "\n",
    "*필자는 java 버전을 업데이트를 해야했고, nextflow_env 환경에서 java 11버전을 설치했습니다. 코드는 아래와 같습니다.\n",
    "#!shell\n",
    "conda install -c conda-forge openjdk=11 # conda-force에서 openjdk=11버전으로 java를 설치합니다.\n",
    " # 버전을 확인합니다.\n",
    "> openjdk version \"11.0.23\" 2024-04-16 LTS\n",
    "> OpenJDK Runtime Environment Zulu11.72+19-CA (build 11.0.23+9-LTS)\n",
    "> OpenJDK 64-Bit Server VM Zulu11.72+19-CA (build 11.0.23+9-LTS, mixed mode)\n"
   ]
  },
  {
   "cell_type": "code",
   "execution_count": null,
   "id": "6f6da4c0-0b7f-43f3-8d03-aa0d5ce3417f",
   "metadata": {},
   "outputs": [],
   "source": [
    "\n",
    "### Nextflow 설치 확인\n",
    "#!shell\n",
    "nextflow info\n",
    ">  Version: 24.04.2 build 5914\n",
    ">  Created: 29-05-2024 06:19 UTC (15:19 KDT)\n",
    ">  System: Mac OS X 13.6.4\n",
    ">  Runtime: Groovy 4.0.21 on OpenJDK 64-Bit Server VM 11.0.23+9-LTS\n",
    ">  Encoding: UTF-8 (UTF-8)\n",
    "\n"
   ]
  },
  {
   "cell_type": "code",
   "execution_count": null,
   "id": "119685bb-9dc1-4ef9-8a5a-6e77ffb0f749",
   "metadata": {},
   "outputs": [],
   "source": [
    "\n",
    "아래 코드로 테스트해봅니다.\n",
    "#!shell\n",
    "nextflow run hello-world\n"
   ]
  },
  {
   "cell_type": "code",
   "execution_count": null,
   "id": "c734ce9b-717d-4a82-a022-28311e9e4d26",
   "metadata": {},
   "outputs": [],
   "source": [
    "\n",
    "아래와 같은 코드가 나옵니다.\n",
    "#!shell\n",
    "> N E X T F L O W   ~  version 24.04.2\n",
    "> \n",
    "> Pulling nextflow-io/hello-world ..."
   ]
  },
  {
   "cell_type": "code",
   "execution_count": null,
   "id": "b2161490-76e2-49da-a76e-d48d35d4b2f3",
   "metadata": {},
   "outputs": [],
   "source": [
    "\n",
    "## 파이프라인 구동 예시\n",
    "파이프라인은 다음 코드로 구동할 수 있습니다.\n",
    "#!shell\n",
    "nextflow run nf-core/rnaseq \\\n",
    "\t--input samplesheet.csv \\\n",
    "\t--output <OUTDIR> \\\n",
    "\t-profile <docker/signularity/…/institute>\n",
    "\n",
    "\n"
   ]
  }
 ],
 "metadata": {
  "kernelspec": {
   "display_name": "Python 3 (ipykernel)",
   "language": "python",
   "name": "python3"
  },
  "language_info": {
   "codemirror_mode": {
    "name": "ipython",
    "version": 3
   },
   "file_extension": ".py",
   "mimetype": "text/x-python",
   "name": "python",
   "nbconvert_exporter": "python",
   "pygments_lexer": "ipython3",
   "version": "3.10.9"
  }
 },
 "nbformat": 4,
 "nbformat_minor": 5
}
